{
  "nbformat": 4,
  "nbformat_minor": 0,
  "metadata": {
    "colab": {
      "provenance": []
    },
    "kernelspec": {
      "name": "python3",
      "display_name": "Python 3"
    },
    "language_info": {
      "name": "python"
    }
  },
  "cells": [
    {
      "cell_type": "markdown",
      "source": [
        "For a given set of training data examples stored in a .CSV file, implement and\n",
        "demonstrate the Find-S algorithm to output a description of the set of all hypotheses\n",
        "consistent with the training examples."
      ],
      "metadata": {
        "id": "pUAbZqDUfHpw"
      }
    },
    {
      "cell_type": "code",
      "execution_count": 1,
      "metadata": {
        "id": "k2ZtTXvra7BB"
      },
      "outputs": [],
      "source": [
        "import pandas as pd"
      ]
    },
    {
      "cell_type": "code",
      "source": [
        "Data = (\"/content/heart.csv\")\n",
        "df= pd.read_csv(Data)"
      ],
      "metadata": {
        "id": "QXtFDxWqbCKm"
      },
      "execution_count": 2,
      "outputs": []
    },
    {
      "cell_type": "code",
      "source": [
        "print(\"Dataset Overview:\\n\", df.head())"
      ],
      "metadata": {
        "colab": {
          "base_uri": "https://localhost:8080/"
        },
        "id": "dtF-rTmtbbpq",
        "outputId": "a91c63df-e50d-4f9d-f562-5972cf7a59e3"
      },
      "execution_count": 4,
      "outputs": [
        {
          "output_type": "stream",
          "name": "stdout",
          "text": [
            "Dataset Overview:\n",
            "    age  sex  cp  trestbps  chol  fbs  restecg  thalach  exang  oldpeak  slope  \\\n",
            "0   63    1   3       145   233    1        0      150      0      2.3      0   \n",
            "1   37    1   2       130   250    0        1      187      0      3.5      0   \n",
            "2   41    0   1       130   204    0        0      172      0      1.4      2   \n",
            "3   56    1   1       120   236    0        1      178      0      0.8      2   \n",
            "4   57    0   0       120   354    0        1      163      1      0.6      2   \n",
            "\n",
            "   ca  thal  target  \n",
            "0   0     1       1  \n",
            "1   0     2       1  \n",
            "2   0     2       1  \n",
            "3   0     2       1  \n",
            "4   0     2       1  \n"
          ]
        }
      ]
    },
    {
      "cell_type": "code",
      "source": [
        "atributes = df.columns[:-1]\n",
        "target_columns= df.columns[-1]"
      ],
      "metadata": {
        "id": "jwcL3Vwcbl5B"
      },
      "execution_count": 5,
      "outputs": []
    },
    {
      "cell_type": "code",
      "source": [
        "positive_examples= df[df[target_columns]==1]"
      ],
      "metadata": {
        "id": "bGRuM3OQcGg6"
      },
      "execution_count": 6,
      "outputs": []
    },
    {
      "cell_type": "code",
      "source": [
        "hypothesis= list(positive_examples.iloc[0,:-1])"
      ],
      "metadata": {
        "id": "q81epQtbcYyH"
      },
      "execution_count": 7,
      "outputs": []
    },
    {
      "cell_type": "code",
      "source": [
        "for i in range(1, len(positive_examples)):\n",
        "  for j in range(len(hypothesis)):\n",
        "    if positive_examples.iloc[i,j] != hypothesis[j]:\n",
        "      hypothesis[j]='?'"
      ],
      "metadata": {
        "id": "0uvrwu_Ecm1R"
      },
      "execution_count": 9,
      "outputs": []
    },
    {
      "cell_type": "code",
      "source": [
        "print(\"Find the final hypothesis(Find-S algorithm):\")\n",
        "print(hypothesis)"
      ],
      "metadata": {
        "colab": {
          "base_uri": "https://localhost:8080/"
        },
        "id": "8hz1WnAcdyhR",
        "outputId": "ae96572f-7fe1-4f45-b30a-d88685aeb784"
      },
      "execution_count": 10,
      "outputs": [
        {
          "output_type": "stream",
          "name": "stdout",
          "text": [
            "Find the final hypothesis(Find-S algorithm):\n",
            "['?', '?', '?', '?', '?', '?', '?', '?', '?', '?', '?', '?', '?']\n"
          ]
        }
      ]
    }
  ]
}